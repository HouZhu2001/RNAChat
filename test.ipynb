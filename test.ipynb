{
 "cells": [
  {
   "cell_type": "code",
   "execution_count": 1,
   "id": "009fea74",
   "metadata": {},
   "outputs": [],
   "source": [
    "import pandas as pd"
   ]
  },
  {
   "cell_type": "code",
   "execution_count": 4,
   "id": "87d65063",
   "metadata": {},
   "outputs": [
    {
     "name": "stdout",
     "output_type": "stream",
     "text": [
      "Index(['rna_id', '(R)-mevalonic acid biosynthetic process', '7SK snRNP',\n",
      "       'B cell activation', 'BMP signaling pathway', 'Barr body', 'Cajal body',\n",
      "       'DNA biosynthetic process', 'DNA polymerase binding',\n",
      "       'DNA-DNA tethering activity',\n",
      "       ...\n",
      "       'template-free RNA nucleotidyltransferase', 'terminal bouton',\n",
      "       'tissue homeostasis',\n",
      "       'transforming growth factor beta receptor signaling pathway',\n",
      "       'transition between fast and slow fiber', 'translation',\n",
      "       'triglyceride homeostasis', 'tube formation',\n",
      "       'vascular associated smooth muscle cell differentiation', 'sequence'],\n",
      "      dtype='object', length=617)\n"
     ]
    }
   ],
   "source": [
    "df = pd.read_csv(\"rna_go.csv\")# Convert to dictionary\n",
    "print(df.columns)\n",
    "\n",
    "sequence_dict = df.set_index(\"rna_id\")[\"sequence\"].to_dict()"
   ]
  }
 ],
 "metadata": {
  "kernelspec": {
   "display_name": "research_rna",
   "language": "python",
   "name": "research_rna"
  },
  "language_info": {
   "codemirror_mode": {
    "name": "ipython",
    "version": 3
   },
   "file_extension": ".py",
   "mimetype": "text/x-python",
   "name": "python",
   "nbconvert_exporter": "python",
   "pygments_lexer": "ipython3",
   "version": "3.9.18"
  }
 },
 "nbformat": 4,
 "nbformat_minor": 5
}
